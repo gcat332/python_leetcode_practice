{
 "cells": [
  {
   "cell_type": "code",
   "execution_count": 81,
   "metadata": {},
   "outputs": [],
   "source": [
    "import pandas as pd\n",
    "import numpy as np\n",
    "from typing import List"
   ]
  },
  {
   "cell_type": "code",
   "execution_count": 39,
   "metadata": {},
   "outputs": [],
   "source": [
    "# Input: strs = [\"flower\",\"flow\",\"flight\"]\n",
    "# Output: \"fl\"\n",
    "\n",
    "# Input: strs = [\"dog\",\"racecar\",\"car\"]\n",
    "# Output: \"\"\n",
    "# Explanation: There is no common prefix among the input strings.\n",
    "\n",
    "strs = [\"flower\",\"flight\",\"flow\"]"
   ]
  },
  {
   "cell_type": "code",
   "execution_count": 76,
   "metadata": {},
   "outputs": [],
   "source": [
    "def longestCommonPrefix(strs: List[str]) -> str:\n",
    "        ans=\"\"\n",
    "        #you can assume that the first element of the array and the last element of the array will have most different prefixes\n",
    "        sortAlpha=sorted(strs)\n",
    "        firstWord = sortAlpha[0]\n",
    "        lastWord = sortAlpha[-1]\n",
    "        for i in range(min(len(firstWord),len(lastWord))):\n",
    "                if firstWord[i] != lastWord[i]:\n",
    "                        return ans\n",
    "                ans += firstWord[i]\n",
    "        return ans"
   ]
  },
  {
   "cell_type": "code",
   "execution_count": 79,
   "metadata": {},
   "outputs": [],
   "source": [
    "def longestCommonPrefix2(strs: List[str]) -> str:\n",
    "    ans = \"\"\n",
    "    shortest = min(strs,key=len)\n",
    "    for i in range(len(shortest)):\n",
    "        for word in strs:\n",
    "            if shortest[i] != word[i]:\n",
    "                return ans\n",
    "        ans += word[i]\n",
    "    return ans"
   ]
  },
  {
   "cell_type": "code",
   "execution_count": 75,
   "metadata": {},
   "outputs": [
    {
     "name": "stdout",
     "output_type": "stream",
     "text": [
      "fl\n"
     ]
    }
   ],
   "source": [
    "print(longestCommonPrefix(strs))"
   ]
  },
  {
   "cell_type": "code",
   "execution_count": 80,
   "metadata": {},
   "outputs": [
    {
     "name": "stdout",
     "output_type": "stream",
     "text": [
      "fl\n"
     ]
    }
   ],
   "source": [
    "print(longestCommonPrefix2(strs))"
   ]
  }
 ],
 "metadata": {
  "kernelspec": {
   "display_name": "Python 3",
   "language": "python",
   "name": "python3"
  },
  "language_info": {
   "codemirror_mode": {
    "name": "ipython",
    "version": 3
   },
   "file_extension": ".py",
   "mimetype": "text/x-python",
   "name": "python",
   "nbconvert_exporter": "python",
   "pygments_lexer": "ipython3",
   "version": "3.11.3"
  },
  "orig_nbformat": 4
 },
 "nbformat": 4,
 "nbformat_minor": 2
}
