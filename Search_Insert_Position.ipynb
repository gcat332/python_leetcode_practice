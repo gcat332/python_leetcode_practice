{
 "cells": [
  {
   "cell_type": "code",
   "execution_count": 2,
   "metadata": {},
   "outputs": [],
   "source": [
    "from typing import List\n",
    "import math"
   ]
  },
  {
   "cell_type": "code",
   "execution_count": 3,
   "metadata": {},
   "outputs": [],
   "source": [
    "# Input: nums = [1,3,5,6], target = 5\n",
    "# Output: 2\n",
    "\n",
    "# Input: nums = [1,3,5,6], target = 2\n",
    "# Output: 1\n",
    "\n",
    "# Input: nums = [1,3,5,6], target = 7\n",
    "# Output: 4"
   ]
  },
  {
   "cell_type": "code",
   "execution_count": 132,
   "metadata": {},
   "outputs": [
    {
     "data": {
      "text/plain": [
       "([1, 3, 5, 6], 0)"
      ]
     },
     "execution_count": 132,
     "metadata": {},
     "output_type": "execute_result"
    }
   ],
   "source": [
    "nums = [1,3,5,6];target = 0\n",
    "nums,target"
   ]
  },
  {
   "cell_type": "code",
   "execution_count": 130,
   "metadata": {},
   "outputs": [],
   "source": [
    "def searchInsert(nums: List[int], target: int) -> int:\n",
    "    lowest = 0\n",
    "    highest = len(nums)-1\n",
    "    while lowest<=highest:\n",
    "        mid = (lowest+highest)//2\n",
    "        if nums[mid] == target:\n",
    "            return mid\n",
    "        elif nums[mid]  > target:\n",
    "            highest = mid-1\n",
    "        else :\n",
    "            lowest = mid+1\n",
    "    return lowest"
   ]
  },
  {
   "cell_type": "code",
   "execution_count": 133,
   "metadata": {},
   "outputs": [
    {
     "data": {
      "text/plain": [
       "0"
      ]
     },
     "execution_count": 133,
     "metadata": {},
     "output_type": "execute_result"
    }
   ],
   "source": [
    "searchInsert(nums,target)"
   ]
  }
 ],
 "metadata": {
  "kernelspec": {
   "display_name": "Python 3",
   "language": "python",
   "name": "python3"
  },
  "language_info": {
   "codemirror_mode": {
    "name": "ipython",
    "version": 3
   },
   "file_extension": ".py",
   "mimetype": "text/x-python",
   "name": "python",
   "nbconvert_exporter": "python",
   "pygments_lexer": "ipython3",
   "version": "3.11.3"
  },
  "orig_nbformat": 4
 },
 "nbformat": 4,
 "nbformat_minor": 2
}
