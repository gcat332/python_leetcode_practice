{
 "cells": [
  {
   "cell_type": "code",
   "execution_count": 19,
   "metadata": {},
   "outputs": [],
   "source": [
    "import pandas as pd\n",
    "import numpy as np\n",
    "from typing import List"
   ]
  },
  {
   "cell_type": "code",
   "execution_count": 164,
   "metadata": {},
   "outputs": [
    {
     "data": {
      "text/plain": [
       "'MCMXCIV'"
      ]
     },
     "execution_count": 164,
     "metadata": {},
     "output_type": "execute_result"
    }
   ],
   "source": [
    "s = \"MCMXCIV\"\n",
    "s\n",
    "# Output: 58\n",
    "# Explanation: L = 50, V= 5, III = 3."
   ]
  },
  {
   "cell_type": "code",
   "execution_count": 165,
   "metadata": {},
   "outputs": [
    {
     "name": "stdout",
     "output_type": "stream",
     "text": [
      "1000\n",
      "100\n",
      "1000\n",
      "10\n",
      "100\n",
      "1\n",
      "5\n"
     ]
    }
   ],
   "source": [
    "transform = {'I': 1, 'V': 5, 'X': 10, 'L': 50, 'C': 100, 'D': 500, 'M': 1000}\n",
    "for i in s:\n",
    "    print(transform[i])"
   ]
  },
  {
   "cell_type": "code",
   "execution_count": 198,
   "metadata": {},
   "outputs": [],
   "source": [
    "def romanToInt(s: str) -> int:\n",
    "        transform = {'I': 1, 'V': 5, 'X': 10, 'L': 50, 'C': 100, 'D': 500, 'M': 1000}\n",
    "        ans = 0\n",
    "        prev_value = 0\n",
    "        for char in s:\n",
    "            curr_value = transform[char]\n",
    "            if curr_value > prev_value :\n",
    "                ans += curr_value - 2*prev_value\n",
    "                print(\"condition = 1\",\"char\",char,\"current = \",curr_value,\" prev = \",prev_value,\" ans = \",ans)\n",
    "            else :\n",
    "                ans += curr_value\n",
    "                print(\"condition = 2\",\"char\",char,\"current = \",curr_value,\" prev = \",prev_value,\" ans = \",ans)\n",
    "            prev_value = curr_value \n",
    "        return ans"
   ]
  },
  {
   "cell_type": "code",
   "execution_count": 199,
   "metadata": {},
   "outputs": [
    {
     "name": "stdout",
     "output_type": "stream",
     "text": [
      "condition = 1 char M current =  1000  prev =  0  ans =  1000\n",
      "condition = 2 char C current =  100  prev =  1000  ans =  1100\n",
      "condition = 1 char M current =  1000  prev =  100  ans =  1900\n",
      "condition = 2 char X current =  10  prev =  1000  ans =  1910\n",
      "condition = 1 char C current =  100  prev =  10  ans =  1990\n",
      "condition = 2 char I current =  1  prev =  100  ans =  1991\n",
      "condition = 1 char V current =  5  prev =  1  ans =  1994\n",
      "1994\n"
     ]
    }
   ],
   "source": [
    "print(romanToInt(s))"
   ]
  }
 ],
 "metadata": {
  "kernelspec": {
   "display_name": "Python 3",
   "language": "python",
   "name": "python3"
  },
  "language_info": {
   "codemirror_mode": {
    "name": "ipython",
    "version": 3
   },
   "file_extension": ".py",
   "mimetype": "text/x-python",
   "name": "python",
   "nbconvert_exporter": "python",
   "pygments_lexer": "ipython3",
   "version": "3.11.3"
  },
  "orig_nbformat": 4
 },
 "nbformat": 4,
 "nbformat_minor": 2
}
